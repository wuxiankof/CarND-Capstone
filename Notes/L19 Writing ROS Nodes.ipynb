{
 "cells": [
  {
   "cell_type": "markdown",
   "metadata": {},
   "source": [
    "# 2. Overview"
   ]
  },
  {
   "cell_type": "markdown",
   "metadata": {},
   "source": [
    "In this lesson, you’ll be learning how to write nodes in `Python`.\n",
    "\n",
    "The first node that you will be writing is called `simple_mover`. `simple_mover` does nothing more than publish joint angle commands to `simple_arm`.\n",
    "\n",
    "After you've developed a basic understanding of the general structure of a ROS Node written in Python, you will be writing another node called arm_mover. arm_mover provides a service called `safe_move`, which allows the arm to be moved to any position within its workspace which has been deemed to be “safe”. The safe zone is bounded by `minimum and maximum joint angles`, and is configurable via the ROS’ parameter server.\n",
    "\n",
    "The last node you’ll write in this lesson is the `look_away` node. This node subscribes to a topic where camera data is being published. When the camera detects an image with uniform color, meaning it’s looking at the sky, the node will call the safe_move service to move the arm to a new position."
   ]
  },
  {
   "cell_type": "markdown",
   "metadata": {},
   "source": [
    "# 3. ROS Publishers"
   ]
  },
  {
   "cell_type": "markdown",
   "metadata": {},
   "source": [
    "Before you see the code for `simple_mover`, it may be helpful to see how `ROS Publishers work in Python`.\n",
    "\n",
    "Publishers allow `a node to send messages to a topic`, so that data from the node can be used in other parts of the ROS system. In Python, ROS publishers typically have the following definition format, although other parameters and arguments are possible:\n",
    "\n",
    "`pub1 = rospy.Publisher(\"/topic_name\", message_type, queue_size=size)`\n",
    "\n",
    "The \"/topic_name\" indicates which topic the publisher will be publishing to. The message_type is the type of message being published on \"/topic_name\".\n",
    "\n",
    "ROS publishing can be either synchronous or asynchronous:\n",
    "\n",
    "- `Synchronous` publishing means that a publisher will attempt to publish to a topic but may be `blocked` if that topic is being published to `by a different publisher`. In this situation, the second publisher is blocked until the `first publisher` has `serialized all messages` to `a buffer `and the buffer has written the messages to each of the topic's subscribers. This is the default behavior of a `rospy.Publisher` if the `queue_size` parameter is not used or set to None.\n",
    "- `Asynchronous` publishing means that a publisher can store messages in a queue until the messages can be sent. If the number of messages published exceeds the size of the queue, the oldest messages are dropped. The queue size can be set using the queue_size parameter.\n",
    "\n",
    "Once the publisher has been created as above, a message with the specified data type can be published as follows:\n",
    "\n",
    "`pub1.publish(message)`\n",
    "\n",
    "For more information about ROS publishers, see the [documentation here](http://docs.ros.org/kinetic/api/rospy/html/rospy.topics.Publisher-class.html)."
   ]
  },
  {
   "cell_type": "markdown",
   "metadata": {},
   "source": [
    "# 4. Simple Mover"
   ]
  },
  {
   "cell_type": "markdown",
   "metadata": {},
   "source": [
    "You will now go through the process of implementing your first ROS node in python. This node is called `simple_mover`. As it’s name implies, this node only has one responsibility, and that is to command joint movements for simple_arm.\n",
    "\n",
    "To do so, it must publish `joint angle command messages` to the following topics:"
   ]
  },
  {
   "cell_type": "markdown",
   "metadata": {},
   "source": [
    "Msg 1:\n",
    "- Topic Name:   \t/simple_arm/joint_1_position_controller/command\n",
    "- Message Type:   \tstd_msgs/Float64\n",
    "- Description:   \tCommands joint 1 to move counter-clockwise, units in radians\n",
    "\n",
    "Msg 2:\n",
    "- Topic Name:   \t/simple_arm/joint_2_position_controller/command\n",
    "- Message Type:   \tstd_msgs/Float64\n",
    "- Description:   \tCommands joint 2 to move counter-clockwise, units in radians\n",
    "\n",
    "**Note:** If you no longer have the catkin workspace from the previous lesson, you can download a copy of it [here](https://github.com/udacity/simple_arm_01). Alternately, If you’d prefer to skip to the punch, you can download the entire, complete simple_arm package from [here](https://github.com/udacity/simple_arm)."
   ]
  },
  {
   "cell_type": "markdown",
   "metadata": {},
   "source": [
    "## Adding the scripts directory\n",
    "\n",
    "In order to create a new node in python, you must first create the scripts directory within the simple_arm package, as it does not yet exist.\n",
    "\n",
    "`cd ~/catkin_ws/src/simple_arm/`\n",
    "\n",
    "`mkdir scripts`"
   ]
  },
  {
   "cell_type": "markdown",
   "metadata": {},
   "source": [
    "## Creating a new script\n",
    "\n",
    "Once the scripts directory has been created, executable scripts can be added to the package. However, in order for rosrun to find them, their permissions must be changed to allow execution. Let’s add a simple bash script that prints “Hello World” to the console.\n",
    "\n",
    "`cd scripts`\n",
    "\n",
    "`echo '#!/bin/bash' >> hello`\n",
    "\n",
    "`echo 'echo Hello World' >> hello`"
   ]
  },
  {
   "cell_type": "markdown",
   "metadata": {},
   "source": [
    "After setting the appropriate execution permissions on the file, rebuilding the workspace, and sourcing the newly created environment, you will be able to run the script.\n",
    "\n",
    "`chmod u+x hello`\n",
    "\n",
    "`cd ~/catkin_ws`\n",
    "\n",
    "`catkin_make`\n",
    "\n",
    "`source devel/setup.bash`\n",
    "\n",
    "`rosrun simple_arm hello`"
   ]
  },
  {
   "cell_type": "markdown",
   "metadata": {},
   "source": [
    "![](_Images/19_1.png)\n",
    "\n",
    "And there you have it! You have now added a script\n",
    "\n"
   ]
  },
  {
   "cell_type": "markdown",
   "metadata": {},
   "source": [
    "## Creating the empty simple_mover node script\n",
    "\n",
    "To create the simple_mover node script, you will must simply follow the same basic routine introduced a moment ago.\n",
    "\n",
    "`cd ~/catkin_ws/src/simple_arm`\n",
    "\n",
    "`cd scripts`\n",
    "\n",
    "`touch simple_mover`\n",
    "\n",
    "`chmod u+x simple_mover`\n",
    "\n",
    "You can now edit the empty simple_mover script with your favorite text editor.\n",
    "\n",
    "Let’s write the code!"
   ]
  },
  {
   "cell_type": "markdown",
   "metadata": {},
   "source": [
    "# 5. Simple Mover: The Code"
   ]
  },
  {
   "cell_type": "markdown",
   "metadata": {},
   "source": [
    "Below is the complete code for the simple_mover node, in it’s entirety, followed by a step-by-step explanation of what is happening. You can copy and paste this code into the simple_mover script you created in the `~/catkin_ws/src/simple_arm/scripts/` directory like this:\n",
    "\n",
    "First, open a new terminal, next:\n",
    "\n",
    "cd ~/catkin_ws/src/simple_arm/scripts/\n",
    "nano simple_mover\n",
    "\n",
    "You have opened the simple_mover script with the nano editor, now copy and paste the code below into the script and use ctrl-x followed by y then enter to save the script."
   ]
  },
  {
   "cell_type": "markdown",
   "metadata": {},
   "source": [
    "```Python\n",
    "#!/usr/bin/env python\n",
    "\n",
    "import math\n",
    "import rospy\n",
    "from std_msgs.msg import Float64\n",
    "\n",
    "def mover():\n",
    "    pub_j1 = rospy.Publisher('/simple_arm/joint_1_position_controller/command',\n",
    "                             Float64, queue_size=10)\n",
    "    pub_j2 = rospy.Publisher('/simple_arm/joint_2_position_controller/command',\n",
    "                             Float64, queue_size=10)\n",
    "    rospy.init_node('arm_mover')\n",
    "    rate = rospy.Rate(10)\n",
    "    start_time = 0\n",
    "\n",
    "    while not start_time:\n",
    "        start_time = rospy.Time.now().to_sec()\n",
    "\n",
    "    while not rospy.is_shutdown():\n",
    "        elapsed = rospy.Time.now().to_sec() - start_time\n",
    "        pub_j1.publish(math.sin(2*math.pi*0.1*elapsed)*(math.pi/2))\n",
    "        pub_j2.publish(math.sin(2*math.pi*0.1*elapsed)*(math.pi/2))\n",
    "        rate.sleep()\n",
    "\n",
    "if __name__ == '__main__':\n",
    "    try:\n",
    "        mover()\n",
    "    except rospy.ROSInterruptException:\n",
    "        pass\n",
    "```"
   ]
  },
  {
   "cell_type": "markdown",
   "metadata": {},
   "source": [
    "**The code: Explained**"
   ]
  },
  {
   "cell_type": "markdown",
   "metadata": {},
   "source": [
    "```Python\n",
    "#!/usr/bin/env python\n",
    "\n",
    "import math\n",
    "import rospy\n",
    "```\n",
    "\n",
    "`rospy` is the official `Python client library for ROS`. It provides most of the fundamental functionality required for interfacing with ROS via Python. It has interfaces for `creating Nodes, interfacing with Topics, Services, Parameters, and more`. It will certainly be worth your time to check out the API documentation [here](http://docs.ros.org/kinetic/api/rospy/html/). General information about rospy, including other tutorials may be found on the [ROS Wiki](http://wiki.ros.org/rospy_tutorials/Tutorials/WritingPublisherSubscriber)."
   ]
  },
  {
   "cell_type": "markdown",
   "metadata": {},
   "source": [
    "```Python\n",
    "from std_msgs.msg import Float64\n",
    "```\n",
    "\n",
    "From the `std_msgs package`, we import Float64, which is one of the primitive message types in ROS. The std_msgs package also contains `all of the other primitive types`. Later on in this script, we will be publishing Float64 messages to the position command topics for each joint."
   ]
  },
  {
   "cell_type": "markdown",
   "metadata": {},
   "source": [
    "```Python\n",
    "def mover():\n",
    "    pub_j1 = rospy.Publisher('/simple_arm/joint_1_position_controller/command',\n",
    "                             Float64, queue_size= 10)\n",
    "    pub_j2 = rospy.Publisher('/simple_arm/joint_2_position_controller/command',\n",
    "                             Float64, queue_size=10)\n",
    "```\n",
    "\n",
    "At the top of the mover function, `two publishers are declared`, one for joint 1 commands, and one for joint 2 commands. \n",
    "\n",
    "Here, the `queue_size parameter is used to determine the maximum number messages` that may be stored in the publisher queue before messages are dropped. \n",
    "\n",
    "More information about this parameter can be found [here](http://wiki.ros.org/rospy/Overview/Publishers%20and%20Subscribers#queue_size:_publish.28.29_behavior_and_queuing)."
   ]
  },
  {
   "cell_type": "markdown",
   "metadata": {},
   "source": [
    "``` Python\n",
    "rospy.init_node('arm_mover')\n",
    "```\n",
    "\n",
    "Initializes a `client node` and registers it with the master. Here “arm_mover” is the name of the node. `init_node() must be called before any other rospy package functions are called`. The `argument anonymous=True` makes sure that you always have a `unique name` for your node\n",
    "\n",
    "<font color='red'>\n",
    "why the name is 'arm_mover'? shouldn't it be 'simple_mover'? and also it make unique name?!"
   ]
  },
  {
   "cell_type": "markdown",
   "metadata": {},
   "source": [
    "``` Python\n",
    "rate = rospy.Rate(10)\n",
    "```\n",
    "\n",
    "The rate object is created here with a value of 10 Hertz. Rates are used to limit the `frequency at which certain loops spin in ROS`. \n",
    "\n",
    ">- Choosing a rate which is `too high` may result in unnecessarily `high CPU usage`, while \n",
    ">- Choosing a value `too low` could result in `high overall system latency`. \n",
    "\n",
    "Choosing `sensible 明智的 values` for all of the nodes in a ROS system is a bit of a `fine-art`."
   ]
  },
  {
   "cell_type": "markdown",
   "metadata": {},
   "source": [
    "``` Python\n",
    "start_time = 0\n",
    "\n",
    "while not start_time:\n",
    "    start_time = rospy.Time.now().to_sec()\n",
    "```\n",
    "\n",
    "start_time is used to determine how much time has elapsed. When using ROS with simulated time (as we are doing here), rospy.Time.now() will initially return 0, until the first message has been received on the `/clock` topic. This is why start_time is set and polled continuously until a nonzero value is returned (more information [here](http://wiki.ros.org/rospy/Overview/Time))."
   ]
  },
  {
   "cell_type": "markdown",
   "metadata": {},
   "source": [
    "``` Python\n",
    "while not rospy.is_shutdown():\n",
    "        elapsed = rospy.Time.now().to_sec() - start_time\n",
    "        pub_j1.publish(math.sin(2*math.pi*0.1*elapsed)*(math.pi/2))\n",
    "        pub_j2.publish(math.sin(2*math.pi*0.1*elapsed)*(math.pi/2))\n",
    "        rate.sleep()\n",
    "```\n",
    "\n",
    "This the `main loop`. \n",
    "\n",
    "Due to the call to `rate.sleep()`, the loop is traversed at `approximately 10 Hertz`. Each trip through the body of the loop will result in two joint command messages being published. The joint angles are sampled from a sine wave with a period of 10 seconds, and in magnitude from [−π/2,+π/2]. \n",
    "\n",
    "When the node receives the signal to shut down (either from the master, or via SIGINT signal in a console window), the loop will be exited."
   ]
  },
  {
   "cell_type": "markdown",
   "metadata": {},
   "source": [
    "``` Python\n",
    "if __name__ == '__main__':\n",
    "    try:\n",
    "        mover()\n",
    "    except rospy.ROSInterruptException:\n",
    "        pass\n",
    "```\n",
    "\n",
    "If the name variable is set to “main”, indicating that this script is being executed directly, the mover() function will be called. \n",
    "\n",
    "The `try/except` blocks here are significant as `rospy uses exceptions extensively`. The particular exception being caught here is the ROSInterruptException. This exception is raised when the node has been signaled for shutdown. If there was perhaps some sort of cleanup needing to be done before the node shuts down, it would be done here. More information about rospy exceptions can be found [here](http://wiki.ros.org/rospy/Overview/Exceptions)."
   ]
  },
  {
   "cell_type": "markdown",
   "metadata": {},
   "source": [
    "Once ROS Master, Gazebo, and all of our relevant nodes are up and running, we can finally launch simple_mover. To do so, open a new terminal and type the following commands:\n",
    "\n",
    "- cd ~/catkin_ws\n",
    "- source devel/setup.bash\n",
    "- rosrun simple_arm simple_mover"
   ]
  },
  {
   "cell_type": "markdown",
   "metadata": {},
   "source": [
    "# 6. ROS Services"
   ]
  },
  {
   "cell_type": "markdown",
   "metadata": {
    "toc-hr-collapsed": true,
    "toc-nb-collapsed": true
   },
   "source": [
    "Now that you've written your first ROS node, you've seen how publishing to a topic works, and you were able control the robotic arm by publishing to the `/simple_arm/joint_2_position_controller/command` topic. Next up, we'll see another node called `arm_mover` which implements the `safe_move` service to allow the arm to be controlled with service calls."
   ]
  },
  {
   "cell_type": "markdown",
   "metadata": {},
   "source": [
    "## Defining services\n",
    "\n",
    "A ROS service allows `request/response` communication to exist between nodes. `Within the node providing the service`, r`equest messages are handled by functions or methods`. Once the requests have been handled successfully, the node providing the service `sends a message back to the requester node`. In Python, a ROS service can be created using the following definition format:\n",
    "\n",
    "```Python\n",
    "service = rospy.Service('service_name', serviceClassName, handler)\n",
    "```\n",
    "\n",
    "Here, the `service_name` is the name given to the service. Other nodes will use this name to specify which service they are sending requests to.\n",
    "\n",
    "The `serviceClassName` comes from the `file name` where the service definition exists. You will see more about this in the next classroom concept, but `each service` has a definition provided in an `.srv file`; this is a text file that provides the proper message type for `both requests and responses`.\n",
    "\n",
    "The `handler` is the name of the function or method that handles the incoming service message. This function is called each time the service is called, and the message from the service call is passed to the handler as an argument. The handler should return an appropriate service response message."
   ]
  },
  {
   "cell_type": "markdown",
   "metadata": {},
   "source": [
    "## Using Services\n",
    "\n",
    "Services can be called directly from the command line, and you will see an example of this in the upcoming arm_mover classroom concepts.\n",
    "\n",
    "On the other hand, to use a ROS service from within another node, you will define a `ServiceProxy`, which provides the interface for sending messages to the service:\n",
    "\n",
    "```Python\n",
    "service_proxy = rospy.ServiceProxy('service_name', serviceClassName)\n",
    "```\n",
    "\n",
    "One way the ServiceProxy can then be used to send requests is as follows:\n",
    "\n",
    "```Python\n",
    "msg = serviceClassNameRequest()\n",
    "#update msg attributes here to have correct data\n",
    "response = service_proxy(msg)\n",
    "```\n",
    "\n",
    "In the code above, a new service message is created by calling the serviceClassNameRequest() method. This method is provided by rospy, and `its name is given by appending Request() to the name used for serviceClassName. `\n",
    "\n",
    "Since the message is new, the message attributes should be updated to have the appropriate data. Next, the service_proxy can be called with the message, and the response stored.\n",
    "\n",
    "For other ways to pass data to service_proxy, see the ROS documentation [here](http://wiki.ros.org/rospy/Overview/Services)."
   ]
  },
  {
   "cell_type": "markdown",
   "metadata": {},
   "source": [
    "Now that you've written your first ROS node, you've seen how publishing to a topic works, and you were able control the robotic arm by publishing to the /simple_arm/joint_2_position_controller/command topic. \n",
    "\n",
    "Next up, we'll see another node called arm_mover which implements the safe_move service to allow the arm to be controlled with service calls."
   ]
  },
  {
   "cell_type": "markdown",
   "metadata": {},
   "source": [
    "## Defining services\n",
    "\n",
    "A `ROS service` allows `request/response` communication to exist `between nodes`. Within the node providing the service, request messages are handled by functions or methods. Once the requests have been handled successfully, the node providing the service sends a message back to the requester node. \n",
    "\n",
    "In Python, a ROS service can be created using the following definition format:\n",
    "\n",
    "```Python\n",
    "service = rospy.Service('service_name', serviceClassName, handler)\n",
    "```\n",
    "\n",
    "- Here, the service_name is the name given to the service. Other nodes will use this name to specify which service they are sending requests to.\n",
    "\n",
    "- The serviceClassName comes from the file name where the service definition exists. You will see more about this in the next classroom concept, but each service has a definition provided in an `.srv file`; this is a text file that provides the proper message type for both requests and responses.\n",
    "\n",
    "- The handler is the name of the function or method that handles the incoming service message. This function is called each time the service is called, and the `message from the service call is passed to the handler as an argument`. The handler should return an appropriate service response message."
   ]
  },
  {
   "cell_type": "markdown",
   "metadata": {},
   "source": [
    "## Using Services\n",
    "\n",
    "Services can be called directly from the command line, and you will see an example of this in the upcoming arm_mover classroom concepts.\n",
    "\n",
    "On the other hand, to use a `ROS service from within another node`, you will define a `ServiceProxy`, which provides the interface for sending messages to the service:\n",
    "\n",
    "```Python\n",
    "service_proxy = rospy.ServiceProxy('service_name', serviceClassName)\n",
    "```\n",
    "\n",
    "One way the ServiceProxy can then be used to send requests is as follows:\n",
    "\n",
    "```Python\n",
    "msg = serviceClassNameRequest()\n",
    "#update msg attributes here to have correct data\n",
    "response = service_proxy(msg)\n",
    "```\n",
    "\n",
    "In the code above, a new service message is created by calling the serviceClassNameRequest() method. This method is provided by rospy, and its name is given by appending Request() to the name used for serviceClassName. Since the message is new, the message attributes should be updated to have the appropriate data. Next, the service_proxy can be called with the message, and the response stored.\n",
    "\n",
    "For other ways to pass data to service_proxy, see the ROS documentation here."
   ]
  },
  {
   "cell_type": "markdown",
   "metadata": {},
   "source": [
    "# 7. Arm Mover"
   ]
  },
  {
   "cell_type": "markdown",
   "metadata": {},
   "source": [
    "You’ve written your first ROS node! This was no trivial task. You’ve had to learn quite a few things to get to this point. But before you will be prepared for the `final project`, we have some more ground to cover.\n",
    "\n",
    "Namely, we still need to cover:\n",
    "\n",
    "- Custom message generation\n",
    "- Services\n",
    "- Parameters\n",
    "- Launch Files\n",
    "- Subscribers\n",
    "- Logging\n",
    "\n",
    "In order to gain an understanding of some of the above, you will be writing another node called arm_mover."
   ]
  },
  {
   "cell_type": "markdown",
   "metadata": {},
   "source": [
    "## Description of Arm Mover\n",
    "\n",
    "In many respects, arm_mover is quite similar to simple_mover. Like simple_mover, it is responsible for commanding the arm to move. However, instead of simply commanding the arm to follow a predetermined trajectory, the `arm_mover node` provides the `service move_arm`, which allows other nodes in the system to send `movement_commands`.\n",
    "\n",
    "In addition to allowing movements via a service interface, arm_mover also allows for `configurable minimum and maximum joint angles`, by using `parameters`."
   ]
  },
  {
   "cell_type": "markdown",
   "metadata": {},
   "source": [
    "## Creating a new service definition\n",
    "\n",
    "As you learned earlier, an interaction with a service consists of `two messages` being passed. `A request passed to the service`, and `a response received from the service`. The definitions of the request and response message type are contained `within .srv files` living in the srv directory under the package’s root.\n",
    "\n",
    "Let’s define a new service for simple_arm. We shall call it GoToPosition.\n",
    "\n",
    "- cd ~/catkin_ws/src/simple_arm/\n",
    "- mkdir srv\n",
    "- cd srv\n",
    "- touch GoToPosition.srv\n",
    "\n",
    "You should now edit GoToPosition.srv, so it contains the following:\n",
    "\n",
    "- float64 joint_1\n",
    "- float64 joint_2\n",
    "- '---'\n",
    "- duration time_elapsed\n",
    "\n",
    "Service definitions always contain two sections, separated by a ‘---’ line. The `first section` is the definition of the `request message`. Here, a request consists of two float64 fields, one for each of simple_arm’s joints. The `second section` contains is the `service response`. The response contains only a single field, time_elapsed. The time_elapsed field is of type duration, and is responsible for indicating how long it took the arm to perform the movement.\n",
    "\n",
    "Note: Defining a custom message type is very similar, with the only differences being that message definitions live within the msg directory of the package root, have a “.msg” extension, rather than .srv, and do not contain the “---” section divider. You can find more detailed information on creating messages and services [here](http://wiki.ros.org/msg), and [here](http://wiki.ros.org/srv), respectively."
   ]
  },
  {
   "cell_type": "markdown",
   "metadata": {},
   "source": [
    "## Modifying CMakeLists.txt\n",
    "\n",
    "In order for catkin to generate the `python modules` or `C++ libraries` which allow you to utilize messages in your code you must first modify simple_arm’s CMakeLists.txt (~/catkin_ws/src/simple_arm/CMakeLists.txt).\n",
    "\n",
    "CMake is the build tool underlying catkin, and CMakeLists.txt is nothing more than a CMake script used by catkin. If you’re familiar with GNU make, and the concept of makefiles, this is a similar concept.\n",
    "\n",
    "First, ensure that the find_package() macro lists std_msgs and message_generation as required packages. The find_package() macro should look as follows:\n",
    "\n",
    "find_package(catkin REQUIRED COMPONENTS\n",
    "        std_msgs\n",
    "        message_generation\n",
    ")\n",
    "As the names might imply, the std_msgs package contains all of the basic message types, and message_generation is required to generate message libraries for all the supported languages (cpp, lisp, python, javascript).\n",
    "\n",
    "Note: In your CMakeLists.txt, you may also see controller_manager listed as a required package. In actuality this package is not required. It was simply added as a means to demonstrate a build failure in the previous lesson. You may remove it from the list of REQUIRED COMPONENTS if you choose.\n",
    "\n",
    "Next, uncomment the commented-out add_service_files() macro so it looks like this:\n",
    "\n",
    "```Python\n",
    "## Generate services in the 'srv' folder\n",
    "add_service_files(\n",
    "   FILES\n",
    "   GoToPosition.srv\n",
    ")\n",
    "```\n",
    "\n",
    "This tells catkin which files to generate code for.\n",
    "\n",
    "Lastly, make sure that the generate_messages() macro is uncommented, as follows:\n",
    "\n",
    "generate_messages(\n",
    "   DEPENDENCIES\n",
    "   std_msgs  # Or other packages containing msgs\n",
    ")\n",
    "\n",
    "It is this macro that is actually responsible for generating the code. For more information about CMakeLists.txt check out [this page](http://wiki.ros.org/catkin/CMakeLists.txt) on the ROS wiki.\n",
    "\n",
    "<font color='red'> \n",
    "    to read later"
   ]
  },
  {
   "cell_type": "markdown",
   "metadata": {},
   "source": [
    "## Modifying package.xml\n",
    "\n",
    "Now that the CMakeLists.txt file has been covered, you should technically be able to build the project. However, there’s one more file which needs to be modified, package.xml.\n",
    "\n",
    "package.xml is responsible for defining many of the package’s properties, such as the name of the package, version numbers, authors, maintainers, and dependencies.\n",
    "\n",
    "Right now, we’re worried about the dependencies. In the previous lesson you learned about build-time dependencies and run-time package dependencies. When rosdep is searching for these dependencies, it’s the package.xml file that is being parsed. Let’s add the message_generation and message_runtime dependencies.\n",
    "\n",
    "  <buildtool_depend>catkin</buildtool_depend>\n",
    "  <build_depend>message_generation</build_depend>\n",
    "\n",
    "  <run_depend>controller_manager</run_depend>\n",
    "  <run_depend>effort_controllers</run_depend>\n",
    "  <run_depend>gazebo_plugins</run_depend>\n",
    "  <run_depend>gazebo_ros</run_depend>\n",
    "  <run_depend>gazebo_ros_control</run_depend>\n",
    "  <run_depend>joint_state_controller</run_depend>\n",
    "  <run_depend>joint_state_publisher</run_depend>\n",
    "  <run_depend>robot_state_publisher</run_depend>\n",
    "  <run_depend>message_runtime</run_depend>\n",
    "  <run_depend>xacro</run_depend>\n",
    "\n",
    "You are now ready to build the package! For more information about package.xml, check out the [ROS Wiki](http://wiki.ros.org/catkin/package.xml).\n",
    "\n",
    "<font color='red'> \n",
    "    to read later"
   ]
  },
  {
   "cell_type": "markdown",
   "metadata": {},
   "source": [
    "## Building the package\n",
    "\n",
    "If you build the workspace successfully, you should now find that a python package containing a module for the new service GoToPosition has been created deep down in the devel directory.\n",
    "\n",
    "- cd ~/catkin_ws\n",
    "- catkin_make\n",
    "- cd devel/lib/python2.7/dist-packages\n",
    "- ls\n",
    "\n",
    "After sourcing the newly created setup.bash, the new simple_arm package has now become part of your PYTHONPATH environment variable, and is ready for use!\n",
    "\n",
    "- env | grep PYTHONPATH\n",
    "\n",
    "<font color='red'> \n",
    "    to read later"
   ]
  },
  {
   "cell_type": "markdown",
   "metadata": {},
   "source": [
    "## Creating the empty arm_mover node script\n",
    "\n",
    "The steps you take to create the arm_mover node are exactly the same as the steps you took to create the simple_mover script, excepting the actual name of the script itself.\n",
    "\n",
    "- cd ~/catkin_ws\n",
    "- cd src/simple_arm/scripts\n",
    "- touch arm_mover\n",
    "- chmod u+x arm_mover\n",
    "\n",
    "You can now edit the empty arm_mover script with your favorite text editor.\n",
    "\n",
    "Let’s move onto the code for arm_mover.\n",
    "\n",
    "<font color='red'> \n",
    "    to read later"
   ]
  },
  {
   "cell_type": "markdown",
   "metadata": {},
   "source": [
    "# 8. Arm Mover: The Code"
   ]
  },
  {
   "cell_type": "markdown",
   "metadata": {},
   "source": [
    "```Python\n",
    "\n",
    "#!/usr/bin/env python\n",
    "\n",
    "import math\n",
    "import rospy\n",
    "from std_msgs.msg import Float64\n",
    "from sensor_msgs.msg import JointState\n",
    "from simple_arm.srv import *\n",
    "\n",
    "def at_goal(pos_j1, goal_j1, pos_j2, goal_j2):\n",
    "    tolerance = .05\n",
    "    result = abs(pos_j1 - goal_j1) <= abs(tolerance)\n",
    "    result = result and abs(pos_j2 - goal_j2) <= abs(tolerance)\n",
    "    return result\n",
    "\n",
    "def clamp_at_boundaries(requested_j1, requested_j2):\n",
    "    clamped_j1 = requested_j1\n",
    "    clamped_j2 = requested_j2\n",
    "\n",
    "    min_j1 = rospy.get_param('~min_joint_1_angle', 0)\n",
    "    max_j1 = rospy.get_param('~max_joint_1_angle', 2*math.pi)\n",
    "    min_j2 = rospy.get_param('~min_joint_2_angle', 0)\n",
    "    max_j2 = rospy.get_param('~max_joint_2_angle', 2*math.pi)\n",
    "\n",
    "    if not min_j1 <= requested_j1 <= max_j1:\n",
    "        clamped_j1 = min(max(requested_j1, min_j1), max_j1)\n",
    "        rospy.logwarn('j1 is out of bounds, valid range (%s,%s), clamping to: %s',\n",
    "                      min_j1, max_j1, clamped_j1)\n",
    "\n",
    "    if not min_j2 <= requested_j2 <= max_j2:\n",
    "        clamped_j2 = min(max(requested_j2, min_j2), max_j2)\n",
    "        rospy.logwarn('j2 is out of bounds, valid range (%s,%s), clamping to: %s',\n",
    "                      min_j2, max_j2, clamped_j2)\n",
    "\n",
    "    return clamped_j1, clamped_j2\n",
    "\n",
    "def move_arm(pos_j1, pos_j2):\n",
    "    time_elapsed = rospy.Time.now()\n",
    "    j1_publisher.publish(pos_j1)\n",
    "    j2_publisher.publish(pos_j2)\n",
    "\n",
    "    while True:\n",
    "        joint_state = rospy.wait_for_message('/simple_arm/joint_states', JointState)\n",
    "        if at_goal(joint_state.position[0], pos_j1, joint_state.position[1], pos_j2):\n",
    "            time_elapsed = joint_state.header.stamp - time_elapsed\n",
    "            break\n",
    "\n",
    "    return time_elapsed\n",
    "\n",
    "def handle_safe_move_request(req):\n",
    "    rospy.loginfo('GoToPositionRequest Received - j1:%s, j2:%s',\n",
    "                   req.joint_1, req.joint_2)\n",
    "    clamp_j1, clamp_j2 = clamp_at_boundaries(req.joint_1, req.joint_2)\n",
    "    time_elapsed = move_arm(clamp_j1, clamp_j2)\n",
    "\n",
    "    return GoToPositionResponse(time_elapsed)\n",
    "\n",
    "def mover_service():\n",
    "    rospy.init_node('arm_mover')\n",
    "    service = rospy.Service('~safe_move', GoToPosition, handle_safe_move_request)\n",
    "    rospy.spin()\n",
    "\n",
    "if __name__ == '__main__':\n",
    "    j1_publisher = rospy.Publisher('/simple_arm/joint_1_position_controller/command',\n",
    "                                   Float64, queue_size=10)\n",
    "    j2_publisher = rospy.Publisher('/simple_arm/joint_2_position_controller/command',\n",
    "                                   Float64, queue_size=10)\n",
    "\n",
    "    try:\n",
    "        mover_service()\n",
    "    except rospy.ROSInterruptException:\n",
    "        pass\n",
    "```"
   ]
  },
  {
   "cell_type": "markdown",
   "metadata": {},
   "source": [
    "```Python\n",
    "#!/usr/bin/env python\n",
    "\n",
    "import math\n",
    "import rospy\n",
    "from std_msgs.msg import Float64\n",
    "from sensor_msgs.msg import JointState\n",
    "from simple_arm.srv import *\n",
    "```\n",
    "\n",
    "The imported modules for arm_mover are the same as simple_arm, with the exception of two new imports. Namely, the `JointState message`, and the `simple_arm.srv` module.\n",
    "\n",
    "`JointState messages` are published to the `/simple_arm/joint_states topic`, and are used for monitoring the position of the arm.\n",
    "\n",
    "`simple_arm package`, and the `srv module` are automatically generated by catkin as part of the build process."
   ]
  },
  {
   "cell_type": "markdown",
   "metadata": {},
   "source": [
    "```PYthon\n",
    "def at_goal(pos_j1, goal_j1, pos_j2, goal_j2):\n",
    "    tolerance = .05\n",
    "    result = abs(pos_j1 - goal_j1) <= abs(tolerance)\n",
    "    result = result and abs(pos_j2 - goal_j2) <= abs(tolerance)\n",
    "    return result\n",
    "```\n",
    "\n",
    "This function returns True if the `joint positions` are `close to the goals`. When taking measurements from sensors in the real world, there will always be some amount of noise. The same is true of the joint positions reported by the gazebo simulator. If both joint positions are within `.05 radians` of the goal, True is returned."
   ]
  },
  {
   "cell_type": "markdown",
   "metadata": {},
   "source": [
    "```Python\n",
    "def clamp_at_boundaries(requested_j1, requested_j2):\n",
    "    clamped_j1 = requested_j1\n",
    "    clamped_j2 = requested_j2\n",
    "```\n",
    "\n",
    "clamp_at_boundaries() is responsible for enforcing the minimum and maximum joint angles for each joint. If the joint angles passed in are outside of the operable range, they will be “clamped” to the nearest allowable value."
   ]
  },
  {
   "cell_type": "markdown",
   "metadata": {},
   "source": [
    "```python\n",
    "    min_j1 = rospy.get_param('~min_joint_1_angle', 0)\n",
    "    max_j1 = rospy.get_param('~max_joint_1_angle', 2*math.pi)\n",
    "    min_j2 = rospy.get_param('~min_joint_2_angle', 0)\n",
    "    max_j2 = rospy.get_param('~max_joint_2_angle', 2*math.pi)\n",
    "```\n",
    "\n",
    "The minimum and maximum joint angles are retrieved from the parameter server each time clamp_at_boundaries() is called. \n",
    "\n",
    "The `“~” is the private namespace qualifier`, and indicates that the parameter we wish to get is within this node’s private namespace /arm_mover/ (e.g. ~min_joint_1_angle resolves to /arm_mover/min_joint_1_angle). \n",
    "\n",
    "The second parameter is the default value to be returned, `in the case` that `rospy.get_param() was unable to get the parameter` from the param server."
   ]
  },
  {
   "cell_type": "markdown",
   "metadata": {},
   "source": [
    " ```python\n",
    "    if not min_j1 <= requested_j1 <= max_j1:\n",
    "        clamped_j1 = min(max(requested_j1, min_j1), max_j1)\n",
    "        rospy.logwarn('j1 is out of bounds, valid range (%s,%s), clamping to: %s',\n",
    "                      min_j1, max_j1, clamped_j1)\n",
    "\n",
    "    if not min_j2 <= requested_j2 <= max_j2:\n",
    "        clamped_j2 = min(max(requested_j2, min_j2), max_j2)\n",
    "        rospy.logwarn('j2 is out of bounds, valid range (%s,%s), clamping to: %s',\n",
    "                      min_j2, max_j2, clamped_j2)\n",
    "\n",
    "    return clamped_j1, clamped_j2\n",
    "```\n",
    "\n",
    "The rest of this function simply clamps the joint angle if necessary. Warning messages are logged if the requested joint angles are out of bounds."
   ]
  },
  {
   "cell_type": "markdown",
   "metadata": {},
   "source": [
    "```python\n",
    "def move_arm(pos_j1, pos_j2):\n",
    "    time_elapsed = rospy.Time.now()\n",
    "    j1_publisher.publish(pos_j1)\n",
    "    j2_publisher.publish(pos_j2)\n",
    "\n",
    "    while True:\n",
    "        joint_state = rospy.wait_for_message('/simple_arm/joint_states', JointState)\n",
    "        \n",
    "        if at_goal(joint_state.position[0], pos_j1, joint_state.position[1], pos_j2):\n",
    "            time_elapsed = joint_state.header.stamp - time_elapsed\n",
    "            break\n",
    "\n",
    "    return time_elapsed\n",
    "```\n",
    "\n",
    "move_arm() `commands the arm to move`, returning the `amount of time that elapsed` while the arm was moving.\n",
    "\n",
    "Note: Within the function we are using the `rospy.wait_for_message()` call to receive `JointState messages` from the `/simple_arm/joint_states topic`. This is `blocking function call`, meaning that it will not return `until a message has been received` on the `/simple_arm/joint_states` topic.\n",
    "\n",
    "`In general, you should not use wait_for_message()`. We simply use it here for the sake of clarity, and because move_arm is being called from the handle_safe_move_request() function, which demands that the response message is passed back as a return parameter. \n",
    "\n",
    "More discussion on this below."
   ]
  },
  {
   "cell_type": "markdown",
   "metadata": {},
   "source": [
    "```python\n",
    "def handle_safe_move_request(req):\n",
    "    rospy.loginfo('GoToPositionRequest Received - j1:%s, j2:%s',\n",
    "                   req.joint_1, req.joint_2)\n",
    "    clamp_j1, clamp_j2 = clamp_at_boundaries(req.joint_1, req.joint_2)\n",
    "    time_elapsed = move_arm(clamp_j1, clamp_j2)\n",
    "\n",
    "    return GoToPositionResponse(time_elapsed)\n",
    "```\n",
    "\n",
    "This is the service handler function. When a service client sends a GoToPosition request message to the safe_move service, this function is called. The function parameter req is of type GoToPositionRequest. The service response is of type GoToPositionResponse.\n",
    "\n",
    "This is the service handler function, it is called whenever a new service request is received. The response to the service request is returned from the function.\n",
    "\n",
    "Note: move_arm() is blocking, and will not return until the arm has finished its movement. Incoming messages cannot be processed, and no other useful work can be done in the python script while the arm is performing it’s movement command. While this poses no real problem for this example, it is a practice that should generally be avoided. One great way to avoid blocking the thread of execution would be to use [Action](http://wiki.ros.org/actionlib). Here’s some [informative documentation](http://wiki.ros.org/ROS/Patterns/Communication#Communication_via_Topics_vs_Services_vs_X) describing when it’s best to use a Topic versus a Service, versus an Action."
   ]
  },
  {
   "cell_type": "markdown",
   "metadata": {},
   "source": [
    "```python\n",
    "def mover_service():\n",
    "    rospy.init_node('arm_mover')\n",
    "    service = rospy.Service('~safe_move', GoToPosition, handle_safe_move_request)\n",
    "    rospy.spin()\n",
    "```\n",
    "\n",
    "Here the node is initialized with the name “arm_mover”, and the GoToPosition service is created with the name “safe_move”. As mentioned previously, the “~” qualifier identifies that safe_move is meant to belong to this node’s private namespace. The resulting service name will be /arm_mover/safe_move . The third parameter to the rospy.Service() call is the function that should be called when a service request is received. Lastly, rospy.spin() simply blocks until a shutdown request is received by the node. Failure to include this line would result in mover_service() returning, and the script completing execution."
   ]
  },
  {
   "cell_type": "markdown",
   "metadata": {},
   "source": [
    "if __name__ == '__main__':\n",
    "    j1_publisher = rospy.Publisher('/simple_arm/joint_1_position_controller/command', Float64, queue_size=10)\n",
    "    j2_publisher = rospy.Publisher('/simple_arm/joint_2_position_controller/command', Float64, queue_size=10)\n",
    "\n",
    "    try:\n",
    "        mover_service()\n",
    "    except rospy.ROSInterruptException:\n",
    "        pass\n",
    "This section of code is similar, to that of simple_mover()."
   ]
  },
  {
   "cell_type": "markdown",
   "metadata": {},
   "source": []
  },
  {
   "cell_type": "markdown",
   "metadata": {},
   "source": []
  },
  {
   "cell_type": "markdown",
   "metadata": {},
   "source": [
    "# 9. Arm Mover: Launch and Interact"
   ]
  },
  {
   "cell_type": "markdown",
   "metadata": {},
   "source": [
    "## Launching the project with the new service\n",
    "\n",
    "To get the arm_mover node, and accompanying safe_move service to launch along with all of the other nodes, you will` modify robot_spawn.launch`.\n",
    "\n",
    "Launch files, when they exist, are located within the launch directory in the root of a catkin package. simple_arm’s launch file is located in ~/catkin_ws/src/simple_arm/launch\n",
    "\n",
    "To get the arm_mover node to launch, simply add the following:\n",
    "\n",
    "```HTML\n",
    "  <!-- The arm mover node -->\n",
    "  <node name=\"arm_mover\" type=\"arm_mover\" pkg=\"simple_arm\">\n",
    "    <rosparam>\n",
    "      min_joint_1_angle: 0\n",
    "      max_joint_1_angle: 1.57\n",
    "      min_joint_2_angle: 0\n",
    "      max_joint_2_angle: 1.0\n",
    "    </rosparam>\n",
    "  </node>\n",
    "```\n",
    "\n",
    "More information on the format of the launch file can be found [here](http://wiki.ros.org/roslaunch/XML)."
   ]
  },
  {
   "cell_type": "markdown",
   "metadata": {},
   "source": [
    "## Testing the new service\n",
    "\n",
    "Now that you've modified the launch file, you are ready to test everything out.\n",
    "\n",
    "To do so, launch the simple_arm, verify that the arm_mover node is running, and that the safe_move service is listed:\n",
    "\n",
    "Note: You will need to make sure that you've exited out of your previous roslaunch session before re-launching.\n",
    "\n",
    "$ cd ~/catkin_ws\n",
    "$ catkin_make\n",
    "$ source devel/setup.bash\n",
    "$ roslaunch simple_arm robot_spawn.launch\n",
    "Then, in a new terminal, verify that the node and service have indeed launched.\n",
    "\n",
    "$ rosnode list\n",
    "$ rosservice list\n",
    "Assuming that both the service (/arm_mover/safe_move) and the node (/arm_mover) show up as expected (If they've not, check the logs in the roscore console), you can now interact with the service using rosservice.\n",
    "\n",
    "To view the camera image stream, you can use the command rqt_image_view (you can learn more about rqt and the associated tools here):\n",
    "\n",
    "$ rqt_image_view /rgb_camera/image_raw\n",
    "\n",
    "<font color='red'> \n",
    "    to read later"
   ]
  },
  {
   "cell_type": "markdown",
   "metadata": {},
   "source": [
    "## Adjusting the view\n",
    "\n",
    "The camera is displaying a gray image. This is as to be expected, given that it is straight up, towards the gray sky of our gazebo world.\n",
    "\n",
    "To point the camera towards the numbered blocks on the counter top, we would need to rotate both joint 1 and joint 2 by approximately pi/2 radians. Let’s give it a try:\n",
    "\n",
    "$ cd ~/catkin_ws/\n",
    "$ source devel/setup.bash\n",
    "$ rosservice call /arm_mover/safe_move \"joint_1: 1.57\n",
    "joint_2: 1.57\"\n",
    "Note: rosservice call can tab-complete the request message, so that you don’t have to worry about writing it out by hand. Also, be sure to include a line break between the two joint parameters.\n",
    "\n",
    "Upon entering the command, you should be able to see the arm move, and eventually stop, reporting the amount of time it took to move the arm to the console. This is as expected.\n",
    "\n",
    "What was not expected is the resulting position of the arm. Looking at the roscore console, we can very clearly see what the problem was. The requested angle for joint 2 was out of the safe bounds. We requested 1.57 radians, but the maximum joint angle was set to 1.0 radians.\n",
    "\n",
    "By setting the max_joint_2_angle on the parameter server, we should be able to bring the blocks into view the next time a service call is made. To increase joint 2’s maximum angle, you can use the command rosparam\n",
    "\n",
    "$ rosparam set /arm_mover/max_joint_2_angle 1.57\n",
    "Now we should be able to move the arm such that all of the blocks are within the field of view of the camera:\n",
    "\n",
    "rosservice call /arm_mover/safe_move \"joint_1: 1.57\n",
    "joint_2: 1.57\"\n",
    "\n",
    "And there you have it. All of the blocks are within the field of view!\n",
    "\n",
    "<font color='red'> \n",
    "    to read later"
   ]
  },
  {
   "cell_type": "markdown",
   "metadata": {},
   "source": [
    "# 10. ROS Subscribers"
   ]
  },
  {
   "cell_type": "markdown",
   "metadata": {},
   "source": [
    "Now that you've written Arm Mover, you have gained an understanding of custom message generation, publishing to a topic, ROS services, parameters, and launch files. Before you are ready to write code, you'll still need to learn to use ROS Subscribers."
   ]
  },
  {
   "cell_type": "markdown",
   "metadata": {},
   "source": [
    "**ROS Subscribers**\n",
    "\n",
    "A Subscriber enables your node to `read messages` from a topic, allowing useful data to be streamed into the node. In Python, ROS subscribers frequently have the following format, although other parameters and arguments are possible:\n",
    "\n",
    "```Python\n",
    "sub1 = rospy.Subscriber(\"/topic_name\", message_type, callback_function)\n",
    "```\n",
    "\n",
    "- The \"/topic_name\" indicates which topic the Subscriber should listen to.\n",
    "- The message_type is the type of message being published on \"/topic_name\".\n",
    "- The callback_function is the name of the function that should be called with each incoming message. Each time a message is received, it is passed as an argument to callback_function. \n",
    "\n",
    "Typically, this function is defined in your node to perform a useful action with the incoming data. Note that unlike service handler functions, the callback_function is `not required to return anything`.\n",
    "\n",
    "For more information about subscribers, see [the documentation here](http://docs.ros.org/api/rospy/html/rospy.topics.Subscriber-class.html). Let's move on to the look_away node so you can see subscribers in action!"
   ]
  },
  {
   "cell_type": "markdown",
   "metadata": {},
   "source": [
    "# 11. Look Away"
   ]
  },
  {
   "cell_type": "markdown",
   "metadata": {},
   "source": [
    "To see a `Subscriber in action`, you'll write a `node called look_away`. The look_away node will subscribe to the /rgb_camera/image_raw topic, which has image data from the camera mounted on the end of the robotic arm. Whenever the camera is pointed towards an uninteresting image - in this case, an image with uniform color - the callback function will move the arm to something more interesting. There are a few extra pieces in the code to ensure that this procedure is executed smoothly, but you will learn more about them later."
   ]
  },
  {
   "cell_type": "markdown",
   "metadata": {},
   "source": [
    "## Creating the empty look_away node script\n",
    "\n",
    "Just as before when you created the arm_mover and simple_mover nodes, you can create the look_away node as follows:\n",
    "\n",
    "$ cd ~/catkin_ws\n",
    "$ cd src/simple_arm/scripts\n",
    "$ touch look_away\n",
    "$ chmod u+x look_away\n",
    "Let's have a look at the code for look_away.\n",
    "\n",
    "<font color='red'> \n",
    "    to read later"
   ]
  },
  {
   "cell_type": "markdown",
   "metadata": {},
   "source": [
    "## Troubleshooting look_away\n",
    "\n",
    "In some cases look_away is executing when running it manually but is not executing automatically with roslaunch. This is typically a timing issue. If look_away starts before the system has fully initialized, then look_away hangs in the call to safe_move. Student jsteinbae offered a great solution to this issue:\n",
    "\n",
    "My workaround was to add wait_for_message to the look_away node before subscribing to the topics. This ensures that the callbacks are not called before the gazebo simulation (publishing these topics) is fully initialized.\n",
    "\n",
    "```Python\n",
    "def __init__(self):\n",
    "    rospy.init_node('look_away')\n",
    "    self.last_position = None\n",
    "    self.arm_moving = False\n",
    "\n",
    "    rospy.wait_for_message('/simple_arm/joint_states', JointState)\n",
    "    rospy.wait_for_message('/rgb_camera/image_raw', Image)\n",
    "\n",
    "    self.sub1 = rospy.Subscriber('/simple_arm/joint_states', \n",
    "                                 JointState, self.joint_states_callback)\n",
    "    self.sub2 = rospy.Subscriber('/rgb_camera/image_raw', \n",
    "                                 Image, self.look_away_callback)\n",
    "    self.safe_move = rospy.ServiceProxy('/arm_mover/safe_move', \n",
    "                                 GoToPosition)\n",
    "    rospy.spin()\n",
    "```\n",
    "\n",
    "<font color='red'> \n",
    "    to read later"
   ]
  },
  {
   "cell_type": "markdown",
   "metadata": {},
   "source": [
    "## Updating the launch file\n",
    "\n",
    "Just as you did with the arm_mover node, to get look_away to launch with the rest of the nodes, you will need to modify robot_spawn.launch, which can be found in ~/catkin_ws/src/simple_arm/launch. You can add the following code there:\n",
    "\n",
    "```HTML\n",
    "  <!-- The look away node -->\n",
    "  <node name=\"look_away\" type=\"look_away\" pkg=\"simple_arm\"/>\n",
    " ```\n",
    "While editing this file, it will be helpful to set max_joint_2_angle: 1.57 in arm_mover so that it isn't necessary to set it again from the command line:\n",
    "\n",
    "```HTML\n",
    "  <!-- The arm mover node -->\n",
    "  <node name=\"arm_mover\" type=\"arm_mover\" pkg=\"simple_arm\">\n",
    "    <rosparam>\n",
    "      min_joint_1_angle: 0\n",
    "      max_joint_1_angle: 1.57\n",
    "      min_joint_2_angle: 0\n",
    "      max_joint_2_angle: 1.57\n",
    "    </rosparam>\n",
    "  </node>\n",
    "```\n",
    "\n",
    "<font color='red'> \n",
    "    to read later"
   ]
  },
  {
   "cell_type": "markdown",
   "metadata": {},
   "source": [
    "# 12. Look Away: The Code"
   ]
  },
  {
   "cell_type": "markdown",
   "metadata": {},
   "source": [
    "You can copy and paste this code into the look_away script you created in the directory:\n",
    "\n",
    "~/catkin_ws/src/simple_arm/scripts"
   ]
  },
  {
   "cell_type": "markdown",
   "metadata": {},
   "source": [
    "```Python\n",
    "#!/usr/bin/env python\n",
    "\n",
    "import math\n",
    "import rospy\n",
    "from sensor_msgs.msg import Image, JointState\n",
    "from simple_arm.srv import *\n",
    "\n",
    "\n",
    "class LookAway(object):\n",
    "    def __init__(self):\n",
    "        rospy.init_node('look_away')\n",
    "\n",
    "        self.sub1 = rospy.Subscriber('/simple_arm/joint_states', \n",
    "                                     JointState, self.joint_states_callback)\n",
    "        self.sub2 = rospy.Subscriber(\"rgb_camera/image_raw\", \n",
    "                                     Image, self.look_away_callback)\n",
    "        self.safe_move = rospy.ServiceProxy('/arm_mover/safe_move', \n",
    "                                     GoToPosition)\n",
    "\n",
    "        self.last_position = None\n",
    "        self.arm_moving = False\n",
    "\n",
    "        rospy.spin()\n",
    "\n",
    "    def uniform_image(self, image):\n",
    "        return all(value == image[0] for value in image)\n",
    "\n",
    "    def coord_equal(self, coord_1, coord_2):\n",
    "        if coord_1 is None or coord_2 is None:\n",
    "            return False\n",
    "        tolerance = .0005\n",
    "        result = abs(coord_1[0] - coord_2[0]) <= abs(tolerance)\n",
    "        result = result and abs(coord_1[1] - coord_2[1]) <= abs(tolerance)\n",
    "        return result\n",
    "\n",
    "    def joint_states_callback(self, data):\n",
    "        if self.coord_equal(data.position, self.last_position):\n",
    "            self.arm_moving = False\n",
    "        else:\n",
    "            self.last_position = data.position\n",
    "            self.arm_moving = True\n",
    "\n",
    "    def look_away_callback(self, data):\n",
    "        if not self.arm_moving and self.uniform_image(data.data):\n",
    "            try:\n",
    "                rospy.wait_for_service('/arm_mover/safe_move')\n",
    "                msg = GoToPositionRequest()\n",
    "                msg.joint_1 = 1.57\n",
    "                msg.joint_2 = 1.57\n",
    "                response = self.safe_move(msg)\n",
    "\n",
    "                rospy.logwarn(\"Camera detecting uniform image. \\\n",
    "                               Elapsed time to look at something nicer:\\n%s\", \n",
    "                               response)\n",
    "\n",
    "            except rospy.ServiceException, e:\n",
    "                rospy.logwarn(\"Service call failed: %s\", e)\n",
    "\n",
    "\n",
    "\n",
    "if __name__ == '__main__':\n",
    "    try: \n",
    "        LookAway()\n",
    "    except rospy.ROSInterruptException:\n",
    "        pass\n",
    "```\n",
    "\n",
    "<font color='red'> \n",
    "    to read the explaination later"
   ]
  },
  {
   "cell_type": "markdown",
   "metadata": {},
   "source": [
    "# 13. Look Away: Launch and Interact"
   ]
  },
  {
   "cell_type": "markdown",
   "metadata": {},
   "source": [
    "You can now launch and interact with simple_arm just as before:\n",
    "\n",
    "- cd ~/catkin_ws\n",
    "- catkin_make\n",
    "- source devel/setup.bash\n",
    "- roslaunch simple_arm robot_spawn.launch\n",
    "\n",
    "Please note that if you are having trouble with roslaunch simple_arm robot_spawn.launch please try the `safe_spawner.sh` script in the scripts folder. You can launch by using `./safe_spawner.sh in a terminal of your choice.`\n",
    "\n",
    "After launching, the arm should move away from the `grey sky` and look towards the blocks. To view the camera image stream, you can use the same command as before:\n",
    "\n",
    "- rqt_image_view /rgb_camera/image_raw\n",
    "\n",
    "To check that everything is working as expected, open a `new terminal`, source devel/setup.bash, and send a service call to point the arm directly up towards the sky (note that the line break in the message is necessary):\n",
    "\n",
    "- rosservice call /arm_mover/safe_move \"joint_1: 0\n",
    "joint_2: 0\""
   ]
  },
  {
   "cell_type": "markdown",
   "metadata": {},
   "source": [
    "# 14. Logging"
   ]
  },
  {
   "cell_type": "markdown",
   "metadata": {},
   "source": [
    "In the code for the simple_mover, arm_mover, and look_away nodes, you may have noticed logging statements such as:\n",
    "\n",
    "```Python\n",
    "rospy.logwarn('j1 is out of bounds, valid range (%s,%s), clamping to: %s', \n",
    "               min_j1, max_j1, clamped_j1)\n",
    "```\n",
    "\n",
    "and\n",
    "\n",
    "```Python\n",
    "rospy.loginfo('GoToPositionRequest Received - j1:%s, j2:%s', \n",
    "               req.joint_1, req.joint_2)\n",
    "```\n",
    "\n",
    "Logging statements allow ROS nodes to send messages to a `log file` or the `console`. This allows `errors and warnings` to be surfaced to the user, or log data to be used later for `debugging`.\n",
    "\n",
    "By default all logging messages for a node are written to the node's log file which can be found in ~/.ros/log or ROS_ROOT/log. If roscore is running, you can use roscd to find log file directory by opening a new terminal window and typing:\n",
    "\n",
    "- roscd log\n",
    "\n",
    "In this directory, you should see directories from runs of your ROS code, along with a latest directory with log files from the most recent run.\n",
    "\n",
    "Below, we'll show some of the options available for logging different types of messages, filtering messages, and changing how messages are surfaced to a user."
   ]
  },
  {
   "cell_type": "markdown",
   "metadata": {},
   "source": [
    "## Logging levels and outputs\n",
    "\n",
    "Rospy has several message levels and provides a variety of options for how to display or store these messages:\n",
    "\n",
    "rospy.logdebug(...)\n",
    "rospy.loginfo(...)\n",
    "rospy.logwarn(...)\n",
    "rospy.logerr(...)\n",
    "rospy.logfatal(...)\n",
    "All levels of logging messages are recorded in ROS log files, but some message levels may also be sent to Python stdout, Python stderr, or the ROS topic /rosout.\n",
    "\n",
    "The loginfo messages are written to Python's stdout, while logwarn, logerr, and logfatal are written to Python's stderr by default. Additionally, loginfo, logwarn, logerr, and logfatal are written to /rosout.\n",
    "\n",
    "The following table summarizes the default locations log messages are written to (source here):\n",
    "\n",
    "Debug\tInfo\tWarn\tError\tFatal\n",
    "\n",
    "stdout\t\tX\t\t\t\n",
    "\n",
    "stderr\t\t\tX\tX\tX\n",
    "\n",
    "log file\tX\tX\tX\tX\tX\n",
    "\n",
    "/rosout\t\tX\tX\tX\tX\t"
   ]
  },
  {
   "cell_type": "markdown",
   "metadata": {},
   "source": [
    "## Filtering and saving log messages from /rosout\n",
    "\n",
    "Note that for messages written to /rosout, you can see the messages in real time as your program is running by echoing:\n",
    "\n",
    "rostopic echo /rosout\n",
    "\n",
    "Although it can be helpful to view messages this way, because of the volume of messages written to that topic, it can sometimes be helpful to filter messages by piping them to grep. These grepped messages can also be saved to a file for debugging:\n",
    "\n",
    "rostopic echo /rosout | grep insert_search_expression_here\n",
    "rostopic echo /rosout | grep insert_search_expression_here > path_to_output/output.txt"
   ]
  },
  {
   "cell_type": "markdown",
   "metadata": {},
   "source": [
    "## Modifying message level sent to /rosout\n",
    "\n",
    "Although logdebug messages are not written to /rosout by default, it is possible to modify the level of logging messages written to /rosout to display them there, or change the level of logging messages written to /rosout to be more restrictive. To do this you must set the log_level attribute within the rospy.init_node code. For example, if you'd like to allow lodebug messages to be written to /rosout, that can be done as follows:\n",
    "\n",
    "rospy.init_node('my_node', log_level=rospy.DEBUG)\n",
    "Other possible rospy options for log_level are INFO, WARN, ERROR, and FATAL."
   ]
  },
  {
   "cell_type": "markdown",
   "metadata": {},
   "source": [
    "## Modifying display of messages sent to stdout and stderr\n",
    "\n",
    "It is also possible to change how messages to stdout and stderr are displayed or logged. Within a package's .launch file, the output attribute for a node tag can be set to \"screen\" or \"log\". The following table summarizes how the different output options change the display of the node's stdout and stderr messages:\n",
    "\n",
    "stdout\tstderr\n",
    "\"screen\"\tscreen\tscreen\n",
    "\"log\"\tlog\tscreen and log\n",
    "For example, setting output=\"screen\" for the look_away node in robot_spawn.launch will display both stdout and stderr messages in the screen:\n",
    "\n",
    "```HTML\n",
    "  <!-- The look away node -->\n",
    "  <node name=\"look_away\" type=\"look_away\" pkg=\"simple_arm\" output=\"screen\"/>\n",
    "```\n",
    "  \n",
    "If the output attribute is left empty, the default is \"log\".\n",
    "\n",
    "As you continue on with the project, the ROS systems that you write will become increasingly complex. Being able to use logging effectively may prove extremely useful for debugging!"
   ]
  },
  {
   "cell_type": "markdown",
   "metadata": {},
   "source": [
    "\n",
    "<font color='red'> \n",
    "    to read later"
   ]
  },
  {
   "cell_type": "markdown",
   "metadata": {},
   "source": [
    "# 15. Recap"
   ]
  },
  {
   "cell_type": "markdown",
   "metadata": {},
   "source": [
    "Congratulations!\n",
    "\n",
    "You’ve now come the conclusion of the ROS Basics!\n",
    "\n",
    "Armed with the basic understanding of ROS you’ve learned here you should now be prepared for the projects which follow!\n",
    "\n",
    "Additional Resources\n",
    "While we’ve done our best to give you a solid understanding of the fundamental concepts of ROS, the lessons here are by no means comprehensive. Fortunately, there are a wealth of resources available online.\n",
    "\n",
    "[ROS Wiki](http://wiki.ros.org/)\n",
    "\n",
    "This is the official source of documentation for all ROS packages. Additionally, there are many helpful tutorials here. Aside from a simple search on google, this is probably the first place you should go if you are having a ROS-related problem.\n",
    "\n",
    "[ROS Answers](http://answers.ros.org/)\n",
    "\n",
    "If the wiki does not provide the answers you are looking for, ROS Answers will be the next best bet. With over 33,000 questions asked on ROS answers, there’s a good chance that somebody has already addressed the problem that you are dealing with.\n",
    "\n",
    "[ROS Cheat Sheet](https://github.com/ros/cheatsheet/releases/download/0.0.1/ROScheatsheet_catkin.pdf)\n",
    "\n",
    "This is the official ROS cheat sheet. Even though the title indicates that it is for the indigo distribution, almost all of the commands still work in Kinetic, the distribution that we are using for this program.\n",
    "\n",
    "[A gentle Introduction to ROS](https://cse.sc.edu/~jokane/agitr/)\n",
    "\n",
    "This is a great book, and is distributed not only in paperback form, but also for free as a PDF download."
   ]
  },
  {
   "cell_type": "code",
   "execution_count": null,
   "metadata": {},
   "outputs": [],
   "source": []
  }
 ],
 "metadata": {
  "kernelspec": {
   "display_name": "Python 3",
   "language": "python",
   "name": "python3"
  },
  "language_info": {
   "codemirror_mode": {
    "name": "ipython",
    "version": 3
   },
   "file_extension": ".py",
   "mimetype": "text/x-python",
   "name": "python",
   "nbconvert_exporter": "python",
   "pygments_lexer": "ipython3",
   "version": "3.8.5"
  },
  "toc-autonumbering": false
 },
 "nbformat": 4,
 "nbformat_minor": 4
}
